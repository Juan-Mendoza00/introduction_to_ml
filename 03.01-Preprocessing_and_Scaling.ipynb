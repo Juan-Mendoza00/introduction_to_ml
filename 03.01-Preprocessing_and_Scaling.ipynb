{
 "cells": [
  {
   "cell_type": "code",
   "execution_count": null,
   "metadata": {},
   "outputs": [],
   "source": [
    "import numpy as np\n",
    "import matplotlib.pyplot as plt"
   ]
  },
  {
   "cell_type": "markdown",
   "metadata": {},
   "source": [
    "# **Preprocessing and Scaling:**\n",
    "\n",
    "### Introduction:\n",
    "- **Purpose:** The section introduces the importance of preprocessing as a crucial step in preparing data for machine learning tasks.\n",
    "\n",
    "### Scaling Methods:\n",
    "- **Objective:** Scaling methods aim to standardize or normalize the features of the dataset.\n",
    "- **Unsupervised Nature:** Scaling methods are considered unsupervised because they do not utilize information about the target variable.\n",
    "\n",
    "### Importance of Scaling:\n",
    "- **Motivation:** Scaling becomes essential when features in the dataset have different scales or units.\n",
    "- **Effects on Algorithms:** Ensures that the influence of certain features is not disproportionately high due to differences in scale.\n",
    "\n",
    "### Types of Scaling Methods:\n",
    "1. **Standardization (Z-score normalization):**\n",
    "   - **Description:** Scales features to have a mean of 0 and a standard deviation of 1.\n",
    "   - **Formula:** `z = (x - mean) / standard deviation`\n",
    "\n",
    "2. **MinMax Scaling:**\n",
    "   - **Description:** Scales features to a specific range, often between 0 and 1.\n",
    "   - **Formula:** `x_scaled = (x - min) / (max - min)`\n",
    "\n",
    "3. **Robust Scaling:**\n",
    "   - **Description:** Scales features based on median and interquartile range, making it robust to outliers.\n",
    "   - **Formula:** `x_scaled = (x - Q1) / (Q3 - Q1)`\n",
    "\n",
    "### Preprocessing as an Unsupervised Task:\n",
    "- **Definition:** Preprocessing, including scaling, is considered an unsupervised task because it does not rely on information about the target variable.\n",
    "- **Motivation:** Ensures that the transformation is consistent across the entire dataset.\n",
    "\n",
    "### Summary:\n",
    "The section emphasizes the importance of preprocessing and scaling as essential steps in preparing data for machine learning. Scaling methods, including standardization, MinMax scaling, and robust scaling, are introduced with their respective formulas and purposes. The section concludes by highlighting that preprocessing, including scaling, is fundamentally an unsupervised task, ensuring consistency across the entire dataset.\n"
   ]
  },
  {
   "cell_type": "markdown",
   "metadata": {},
   "source": [
    "Example:"
   ]
  },
  {
   "cell_type": "code",
   "execution_count": null,
   "metadata": {},
   "outputs": [],
   "source": [
    "from sklearn.preprocessing import StandardScaler\n",
    "scaler = StandardScaler()\n",
    "# calling fit and transform in sequence (using method chaining)\n",
    "X_scaled = scaler.fit(X).transform(X)\n",
    "# same result, but more efficient computation\n",
    "X_scaled_d = scaler.fit_transform(X)"
   ]
  }
 ],
 "metadata": {
  "kernelspec": {
   "display_name": "sklearn-env",
   "language": "python",
   "name": "python3"
  },
  "language_info": {
   "name": "python",
   "version": "3.12.0"
  }
 },
 "nbformat": 4,
 "nbformat_minor": 2
}
