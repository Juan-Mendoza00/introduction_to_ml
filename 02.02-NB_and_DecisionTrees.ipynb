{
 "cells": [
  {
   "cell_type": "code",
   "execution_count": 1,
   "metadata": {},
   "outputs": [],
   "source": [
    "import numpy as np\n",
    "import pandas as pd\n",
    "import matplotlib.pyplot as plt\n",
    "import seaborn as sns"
   ]
  },
  {
   "cell_type": "markdown",
   "metadata": {},
   "source": [
    "# **Naive Bayes Classifiers:**\n",
    "\n",
    "- A family of classifiers that are quite similar to linear models.\n",
    "\n",
    "    - Faster to train but slightly worse perfomance.\n",
    "\n",
    "- **Three main kinds:**\n",
    "\n",
    "    - Gaussian Naive Bayes: Can be applied to any continuous data.\n",
    "\n",
    "    - Bernoulli Naive Bayes: Assumes binary data.\n",
    "    \n",
    "    - Multinomial Naive Bayes: Assumes count data, i.e. each feature is a count of something.\n",
    "\n",
    "\n",
    "### Gaussian Naive Bayes:\n",
    "GaussianNB implements the Gaussian Naive Bayes algorithm for classification. The likelihood of the features is assumed to be Gaussian:\n",
    "\n",
    "- $P(x_i \\mid y) = \\frac{1}{\\sqrt{2\\pi\\sigma^2_y}} \\exp\\left(-\\frac{(x_i - \\mu_y)^2}{2\\sigma^2_y}\\right)$"
   ]
  },
  {
   "cell_type": "code",
   "execution_count": 2,
   "metadata": {},
   "outputs": [],
   "source": [
    "from sklearn.datasets import load_iris\n",
    "from sklearn.naive_bayes import GaussianNB\n",
    "from sklearn.model_selection import train_test_split\n",
    "\n",
    "data = load_iris() # We already know it\n",
    "# Splittind data on equal parts for training and testing\n",
    "X_train, X_test, y_train, y_test = train_test_split(\n",
    "                                    data.data, data.target, \n",
    "                                    random_state=0, \n",
    "                                    test_size=0.5)\n",
    "# Instanciyng\n",
    "gnb = GaussianNB()\n",
    "\n",
    "# Train and fit\n",
    "# *Chaining method: traind and predict on the same line \n",
    "y_pred = gnb.fit(X_train, y_train).predict(X_test)\n"
   ]
  },
  {
   "cell_type": "markdown",
   "metadata": {},
   "source": [
    "Observe how many datapoints were mislabeled."
   ]
  },
  {
   "cell_type": "code",
   "execution_count": 3,
   "metadata": {},
   "outputs": [
    {
     "data": {
      "text/plain": [
       "array([ True,  True,  True,  True,  True,  True,  True,  True,  True,\n",
       "        True, False,  True,  True,  True,  True,  True,  True,  True,\n",
       "        True,  True,  True,  True,  True,  True,  True,  True,  True,\n",
       "        True,  True,  True,  True,  True,  True,  True,  True,  True,\n",
       "        True,  True,  True,  True,  True,  True,  True,  True,  True,\n",
       "        True,  True,  True, False,  True,  True,  True,  True,  True,\n",
       "        True, False, False,  True,  True,  True,  True,  True,  True,\n",
       "        True,  True,  True,  True,  True,  True,  True,  True,  True,\n",
       "        True,  True,  True])"
      ]
     },
     "execution_count": 3,
     "metadata": {},
     "output_type": "execute_result"
    }
   ],
   "source": [
    "y_pred == y_test"
   ]
  },
  {
   "cell_type": "code",
   "execution_count": 4,
   "metadata": {},
   "outputs": [
    {
     "name": "stdout",
     "output_type": "stream",
     "text": [
      "Number of mislabeled points out of a total 75 points: 4.\n",
      "Score: 0.9466666666666667\n"
     ]
    }
   ],
   "source": [
    "print('Number of mislabeled points out of a total {} points: {}.'\n",
    "      .format(len(X_test), (y_pred != y_test).sum()))\n",
    "print(f'Score: {gnb.score(X_test, y_test)}')"
   ]
  },
  {
   "cell_type": "markdown",
   "metadata": {},
   "source": [
    "¡! Important to notice that score here is the simple ratio of correctly labeled.\n",
    "\n",
    "***"
   ]
  },
  {
   "cell_type": "markdown",
   "metadata": {},
   "source": [
    "# **Decision Trees**\n",
    "\n",
    "- Widely used for classification and regression tasks.\n",
    "\n",
    "- Collection of if/no question patterns that leads to a decision (The prediction). Each question is called \"test\", and the algorithm searches the most informative test to come up whith a preddciont efficiently.\n",
    "\n",
    "- Tests can be seen as partitions of the data that best label each datapoint.\n",
    "\n",
    "- Can easily overfit if complexity is not controlled.\n",
    "\n",
    "#### Strategies to prevent overfitting\n",
    "\n",
    "- Pre-pruning: early stopping of the creation of the tree.\n",
    "    - Limiting the max depth (How many levels). - `max_depth`\n",
    "    - Limiting the number of leaves. `max_leaf_nodes`\n",
    "    - Requiring a minimum number of points to keep splitting. `min_samples_split`"
   ]
  },
  {
   "cell_type": "code",
   "execution_count": 5,
   "metadata": {},
   "outputs": [
    {
     "name": "stdout",
     "output_type": "stream",
     "text": [
      "Accuracy on training set: 1.000\n",
      "Accuracy on test set: 0.937\n"
     ]
    }
   ],
   "source": [
    "from sklearn.datasets import load_breast_cancer\n",
    "from sklearn.tree import DecisionTreeClassifier\n",
    "\n",
    "cancer = load_breast_cancer()\n",
    "X_train, X_test, y_train, y_test = train_test_split(\n",
    "        cancer.data, cancer.target, random_state=42, stratify=cancer.target)\n",
    "\n",
    "tree = DecisionTreeClassifier(random_state=0).fit(X_train, y_train)\n",
    "\n",
    "print(\"Accuracy on training set: {:.3f}\".format(tree.score(X_train, y_train)))\n",
    "print(\"Accuracy on test set: {:.3f}\".format(tree.score(X_test, y_test)))"
   ]
  },
  {
   "cell_type": "markdown",
   "metadata": {},
   "source": [
    "Let's apply pre-pruning. This dicreases complexity and overfitting, which leads to an improvement on performance."
   ]
  },
  {
   "cell_type": "code",
   "execution_count": 6,
   "metadata": {},
   "outputs": [
    {
     "name": "stdout",
     "output_type": "stream",
     "text": [
      "Accuracy on training set: 0.988\n",
      "Accuracy on test set: 0.951\n"
     ]
    }
   ],
   "source": [
    "# adjusting max_depth\n",
    "tree4d = DecisionTreeClassifier(max_depth=4, random_state=0)\n",
    "tree4d.fit(X_train, y_train)\n",
    "\n",
    "print(\"Accuracy on training set: {:.3f}\".format(tree4d.score(X_train, y_train)))\n",
    "print(\"Accuracy on test set: {:.3f}\".format(tree4d.score(X_test, y_test)))"
   ]
  },
  {
   "cell_type": "markdown",
   "metadata": {},
   "source": [
    "**Analysing and visualizing.**\n",
    "\n",
    "We can visualize the tree using the export_graphviz function from the tree module.\n",
    "This writes a file in the .dot file format, which is a text file format for storing graphs.\n",
    "We set an option to color the nodes to reflect the majority class in each node and pass\n",
    "the class and features names so the tree can be properly labeled:"
   ]
  },
  {
   "cell_type": "code",
   "execution_count": 7,
   "metadata": {},
   "outputs": [],
   "source": [
    "from sklearn.tree import export_graphviz\n",
    "# The function creates the graphic into a file\n",
    "export_graphviz(tree4d, out_file='tree.dot',\n",
    "                feature_names=cancer['feature_names'],\n",
    "                class_names=['Malignant', 'Benign'],\n",
    "                filled=True, # Paint nodes\n",
    "                impurity=False)"
   ]
  },
  {
   "cell_type": "code",
   "execution_count": 9,
   "metadata": {},
   "outputs": [
    {
     "data": {
      "image/svg+xml": [
       "<?xml version=\"1.0\" encoding=\"UTF-8\" standalone=\"no\"?>\n",
       "<!DOCTYPE svg PUBLIC \"-//W3C//DTD SVG 1.1//EN\"\n",
       " \"http://www.w3.org/Graphics/SVG/1.1/DTD/svg11.dtd\">\n",
       "<!-- Generated by graphviz version 8.1.0 (20230707.2238)\n",
       " -->\n",
       "<!-- Title: Tree Pages: 1 -->\n",
       "<svg width=\"1248pt\" height=\"520pt\"\n",
       " viewBox=\"0.00 0.00 1248.00 519.75\" xmlns=\"http://www.w3.org/2000/svg\" xmlns:xlink=\"http://www.w3.org/1999/xlink\">\n",
       "<g id=\"graph0\" class=\"graph\" transform=\"scale(1 1) rotate(0) translate(4 515.75)\">\n",
       "<title>Tree</title>\n",
       "<polygon fill=\"white\" stroke=\"none\" points=\"-4,4 -4,-515.75 1244,-515.75 1244,4 -4,4\"/>\n",
       "<!-- 0 -->\n",
       "<g id=\"node1\" class=\"node\">\n",
       "<title>0</title>\n",
       "<polygon fill=\"#afd7f4\" stroke=\"black\" points=\"778.5,-511.75 593.75,-511.75 593.75,-434.75 778.5,-434.75 778.5,-511.75\"/>\n",
       "<text text-anchor=\"middle\" x=\"686.12\" y=\"-494.45\" font-family=\"Helvetica,sans-Serif\" font-size=\"14.00\">worst radius &lt;= 16.795</text>\n",
       "<text text-anchor=\"middle\" x=\"686.12\" y=\"-477.2\" font-family=\"Helvetica,sans-Serif\" font-size=\"14.00\">samples = 426</text>\n",
       "<text text-anchor=\"middle\" x=\"686.12\" y=\"-459.95\" font-family=\"Helvetica,sans-Serif\" font-size=\"14.00\">value = [159, 267]</text>\n",
       "<text text-anchor=\"middle\" x=\"686.12\" y=\"-442.7\" font-family=\"Helvetica,sans-Serif\" font-size=\"14.00\">class = Benign</text>\n",
       "</g>\n",
       "<!-- 1 -->\n",
       "<g id=\"node2\" class=\"node\">\n",
       "<title>1</title>\n",
       "<polygon fill=\"#4ca6e8\" stroke=\"black\" points=\"671.38,-398.75 434.88,-398.75 434.88,-321.75 671.38,-321.75 671.38,-398.75\"/>\n",
       "<text text-anchor=\"middle\" x=\"553.12\" y=\"-381.45\" font-family=\"Helvetica,sans-Serif\" font-size=\"14.00\">worst concave points &lt;= 0.136</text>\n",
       "<text text-anchor=\"middle\" x=\"553.12\" y=\"-364.2\" font-family=\"Helvetica,sans-Serif\" font-size=\"14.00\">samples = 284</text>\n",
       "<text text-anchor=\"middle\" x=\"553.12\" y=\"-346.95\" font-family=\"Helvetica,sans-Serif\" font-size=\"14.00\">value = [25, 259]</text>\n",
       "<text text-anchor=\"middle\" x=\"553.12\" y=\"-329.7\" font-family=\"Helvetica,sans-Serif\" font-size=\"14.00\">class = Benign</text>\n",
       "</g>\n",
       "<!-- 0&#45;&gt;1 -->\n",
       "<g id=\"edge1\" class=\"edge\">\n",
       "<title>0&#45;&gt;1</title>\n",
       "<path fill=\"none\" stroke=\"black\" d=\"M640.73,-434.36C629.71,-425.16 617.82,-415.24 606.47,-405.77\"/>\n",
       "<polygon fill=\"black\" stroke=\"black\" points=\"609.24,-402.69 599.32,-398.97 604.75,-408.06 609.24,-402.69\"/>\n",
       "<text text-anchor=\"middle\" x=\"600.56\" y=\"-419.19\" font-family=\"Helvetica,sans-Serif\" font-size=\"14.00\">True</text>\n",
       "</g>\n",
       "<!-- 14 -->\n",
       "<g id=\"node15\" class=\"node\">\n",
       "<title>14</title>\n",
       "<polygon fill=\"#e78945\" stroke=\"black\" points=\"877.38,-398.75 700.88,-398.75 700.88,-321.75 877.38,-321.75 877.38,-398.75\"/>\n",
       "<text text-anchor=\"middle\" x=\"789.12\" y=\"-381.45\" font-family=\"Helvetica,sans-Serif\" font-size=\"14.00\">texture error &lt;= 0.473</text>\n",
       "<text text-anchor=\"middle\" x=\"789.12\" y=\"-364.2\" font-family=\"Helvetica,sans-Serif\" font-size=\"14.00\">samples = 142</text>\n",
       "<text text-anchor=\"middle\" x=\"789.12\" y=\"-346.95\" font-family=\"Helvetica,sans-Serif\" font-size=\"14.00\">value = [134, 8]</text>\n",
       "<text text-anchor=\"middle\" x=\"789.12\" y=\"-329.7\" font-family=\"Helvetica,sans-Serif\" font-size=\"14.00\">class = Malignant</text>\n",
       "</g>\n",
       "<!-- 0&#45;&gt;14 -->\n",
       "<g id=\"edge14\" class=\"edge\">\n",
       "<title>0&#45;&gt;14</title>\n",
       "<path fill=\"none\" stroke=\"black\" d=\"M721.28,-434.36C729.49,-425.52 738.31,-416.01 746.79,-406.88\"/>\n",
       "<polygon fill=\"black\" stroke=\"black\" points=\"748.89,-409.68 753.12,-399.97 743.76,-404.92 748.89,-409.68\"/>\n",
       "<text text-anchor=\"middle\" x=\"755.06\" y=\"-419.28\" font-family=\"Helvetica,sans-Serif\" font-size=\"14.00\">False</text>\n",
       "</g>\n",
       "<!-- 2 -->\n",
       "<g id=\"node3\" class=\"node\">\n",
       "<title>2</title>\n",
       "<polygon fill=\"#3c9fe5\" stroke=\"black\" points=\"432.38,-285.75 261.88,-285.75 261.88,-208.75 432.38,-208.75 432.38,-285.75\"/>\n",
       "<text text-anchor=\"middle\" x=\"347.12\" y=\"-268.45\" font-family=\"Helvetica,sans-Serif\" font-size=\"14.00\">radius error &lt;= 1.048</text>\n",
       "<text text-anchor=\"middle\" x=\"347.12\" y=\"-251.2\" font-family=\"Helvetica,sans-Serif\" font-size=\"14.00\">samples = 252</text>\n",
       "<text text-anchor=\"middle\" x=\"347.12\" y=\"-233.95\" font-family=\"Helvetica,sans-Serif\" font-size=\"14.00\">value = [4, 248]</text>\n",
       "<text text-anchor=\"middle\" x=\"347.12\" y=\"-216.7\" font-family=\"Helvetica,sans-Serif\" font-size=\"14.00\">class = Benign</text>\n",
       "</g>\n",
       "<!-- 1&#45;&gt;2 -->\n",
       "<g id=\"edge2\" class=\"edge\">\n",
       "<title>1&#45;&gt;2</title>\n",
       "<path fill=\"none\" stroke=\"black\" d=\"M482.81,-321.36C464.84,-311.68 445.4,-301.2 426.99,-291.29\"/>\n",
       "<polygon fill=\"black\" stroke=\"black\" points=\"428.94,-287.82 418.47,-286.16 425.62,-293.98 428.94,-287.82\"/>\n",
       "</g>\n",
       "<!-- 7 -->\n",
       "<g id=\"node8\" class=\"node\">\n",
       "<title>7</title>\n",
       "<polygon fill=\"#f3c3a1\" stroke=\"black\" points=\"644,-285.75 462.25,-285.75 462.25,-208.75 644,-208.75 644,-285.75\"/>\n",
       "<text text-anchor=\"middle\" x=\"553.12\" y=\"-268.45\" font-family=\"Helvetica,sans-Serif\" font-size=\"14.00\">worst texture &lt;= 25.62</text>\n",
       "<text text-anchor=\"middle\" x=\"553.12\" y=\"-251.2\" font-family=\"Helvetica,sans-Serif\" font-size=\"14.00\">samples = 32</text>\n",
       "<text text-anchor=\"middle\" x=\"553.12\" y=\"-233.95\" font-family=\"Helvetica,sans-Serif\" font-size=\"14.00\">value = [21, 11]</text>\n",
       "<text text-anchor=\"middle\" x=\"553.12\" y=\"-216.7\" font-family=\"Helvetica,sans-Serif\" font-size=\"14.00\">class = Malignant</text>\n",
       "</g>\n",
       "<!-- 1&#45;&gt;7 -->\n",
       "<g id=\"edge7\" class=\"edge\">\n",
       "<title>1&#45;&gt;7</title>\n",
       "<path fill=\"none\" stroke=\"black\" d=\"M553.12,-321.36C553.12,-313.5 553.12,-305.12 553.12,-296.94\"/>\n",
       "<polygon fill=\"black\" stroke=\"black\" points=\"556.63,-296.97 553.12,-286.97 549.63,-296.97 556.63,-296.97\"/>\n",
       "</g>\n",
       "<!-- 3 -->\n",
       "<g id=\"node4\" class=\"node\">\n",
       "<title>3</title>\n",
       "<polygon fill=\"#3b9ee5\" stroke=\"black\" points=\"259.62,-172.75 48.62,-172.75 48.62,-95.75 259.62,-95.75 259.62,-172.75\"/>\n",
       "<text text-anchor=\"middle\" x=\"154.12\" y=\"-155.45\" font-family=\"Helvetica,sans-Serif\" font-size=\"14.00\">smoothness error &lt;= 0.003</text>\n",
       "<text text-anchor=\"middle\" x=\"154.12\" y=\"-138.2\" font-family=\"Helvetica,sans-Serif\" font-size=\"14.00\">samples = 251</text>\n",
       "<text text-anchor=\"middle\" x=\"154.12\" y=\"-120.95\" font-family=\"Helvetica,sans-Serif\" font-size=\"14.00\">value = [3, 248]</text>\n",
       "<text text-anchor=\"middle\" x=\"154.12\" y=\"-103.7\" font-family=\"Helvetica,sans-Serif\" font-size=\"14.00\">class = Benign</text>\n",
       "</g>\n",
       "<!-- 2&#45;&gt;3 -->\n",
       "<g id=\"edge3\" class=\"edge\">\n",
       "<title>2&#45;&gt;3</title>\n",
       "<path fill=\"none\" stroke=\"black\" d=\"M281.25,-208.36C264.57,-198.77 246.53,-188.39 229.43,-178.56\"/>\n",
       "<polygon fill=\"black\" stroke=\"black\" points=\"231.45,-175.11 221.04,-173.16 227.96,-181.18 231.45,-175.11\"/>\n",
       "</g>\n",
       "<!-- 6 -->\n",
       "<g id=\"node7\" class=\"node\">\n",
       "<title>6</title>\n",
       "<polygon fill=\"#e58139\" stroke=\"black\" points=\"417,-164.12 277.25,-164.12 277.25,-104.38 417,-104.38 417,-164.12\"/>\n",
       "<text text-anchor=\"middle\" x=\"347.12\" y=\"-146.82\" font-family=\"Helvetica,sans-Serif\" font-size=\"14.00\">samples = 1</text>\n",
       "<text text-anchor=\"middle\" x=\"347.12\" y=\"-129.57\" font-family=\"Helvetica,sans-Serif\" font-size=\"14.00\">value = [1, 0]</text>\n",
       "<text text-anchor=\"middle\" x=\"347.12\" y=\"-112.33\" font-family=\"Helvetica,sans-Serif\" font-size=\"14.00\">class = Malignant</text>\n",
       "</g>\n",
       "<!-- 2&#45;&gt;6 -->\n",
       "<g id=\"edge6\" class=\"edge\">\n",
       "<title>2&#45;&gt;6</title>\n",
       "<path fill=\"none\" stroke=\"black\" d=\"M347.12,-208.36C347.12,-197.73 347.12,-186.14 347.12,-175.39\"/>\n",
       "<polygon fill=\"black\" stroke=\"black\" points=\"350.63,-175.56 347.12,-165.56 343.63,-175.56 350.63,-175.56\"/>\n",
       "</g>\n",
       "<!-- 4 -->\n",
       "<g id=\"node5\" class=\"node\">\n",
       "<title>4</title>\n",
       "<polygon fill=\"#7bbeee\" stroke=\"black\" points=\"120.25,-59.75 0,-59.75 0,0 120.25,0 120.25,-59.75\"/>\n",
       "<text text-anchor=\"middle\" x=\"60.12\" y=\"-42.45\" font-family=\"Helvetica,sans-Serif\" font-size=\"14.00\">samples = 4</text>\n",
       "<text text-anchor=\"middle\" x=\"60.12\" y=\"-25.2\" font-family=\"Helvetica,sans-Serif\" font-size=\"14.00\">value = [1, 3]</text>\n",
       "<text text-anchor=\"middle\" x=\"60.12\" y=\"-7.95\" font-family=\"Helvetica,sans-Serif\" font-size=\"14.00\">class = Benign</text>\n",
       "</g>\n",
       "<!-- 3&#45;&gt;4 -->\n",
       "<g id=\"edge4\" class=\"edge\">\n",
       "<title>3&#45;&gt;4</title>\n",
       "<path fill=\"none\" stroke=\"black\" d=\"M119.39,-95.42C111.22,-86.52 102.52,-77.05 94.37,-68.18\"/>\n",
       "<polygon fill=\"black\" stroke=\"black\" points=\"97.42,-66.23 88.08,-61.23 92.26,-70.96 97.42,-66.23\"/>\n",
       "</g>\n",
       "<!-- 5 -->\n",
       "<g id=\"node6\" class=\"node\">\n",
       "<title>5</title>\n",
       "<polygon fill=\"#3b9ee5\" stroke=\"black\" points=\"268.12,-59.75 138.12,-59.75 138.12,0 268.12,0 268.12,-59.75\"/>\n",
       "<text text-anchor=\"middle\" x=\"203.12\" y=\"-42.45\" font-family=\"Helvetica,sans-Serif\" font-size=\"14.00\">samples = 247</text>\n",
       "<text text-anchor=\"middle\" x=\"203.12\" y=\"-25.2\" font-family=\"Helvetica,sans-Serif\" font-size=\"14.00\">value = [2, 245]</text>\n",
       "<text text-anchor=\"middle\" x=\"203.12\" y=\"-7.95\" font-family=\"Helvetica,sans-Serif\" font-size=\"14.00\">class = Benign</text>\n",
       "</g>\n",
       "<!-- 3&#45;&gt;5 -->\n",
       "<g id=\"edge5\" class=\"edge\">\n",
       "<title>3&#45;&gt;5</title>\n",
       "<path fill=\"none\" stroke=\"black\" d=\"M172.23,-95.42C176.19,-87.16 180.38,-78.4 184.36,-70.09\"/>\n",
       "<polygon fill=\"black\" stroke=\"black\" points=\"187.91,-71.76 189.07,-61.23 181.6,-68.74 187.91,-71.76\"/>\n",
       "</g>\n",
       "<!-- 8 -->\n",
       "<g id=\"node9\" class=\"node\">\n",
       "<title>8</title>\n",
       "<polygon fill=\"#7bbeee\" stroke=\"black\" points=\"651.25,-172.75 435,-172.75 435,-95.75 651.25,-95.75 651.25,-172.75\"/>\n",
       "<text text-anchor=\"middle\" x=\"543.12\" y=\"-155.45\" font-family=\"Helvetica,sans-Serif\" font-size=\"14.00\">worst smoothness &lt;= 0.179</text>\n",
       "<text text-anchor=\"middle\" x=\"543.12\" y=\"-138.2\" font-family=\"Helvetica,sans-Serif\" font-size=\"14.00\">samples = 12</text>\n",
       "<text text-anchor=\"middle\" x=\"543.12\" y=\"-120.95\" font-family=\"Helvetica,sans-Serif\" font-size=\"14.00\">value = [3, 9]</text>\n",
       "<text text-anchor=\"middle\" x=\"543.12\" y=\"-103.7\" font-family=\"Helvetica,sans-Serif\" font-size=\"14.00\">class = Benign</text>\n",
       "</g>\n",
       "<!-- 7&#45;&gt;8 -->\n",
       "<g id=\"edge8\" class=\"edge\">\n",
       "<title>7&#45;&gt;8</title>\n",
       "<path fill=\"none\" stroke=\"black\" d=\"M549.71,-208.36C549,-200.41 548.23,-191.93 547.49,-183.66\"/>\n",
       "<polygon fill=\"black\" stroke=\"black\" points=\"550.91,-183.61 546.52,-173.97 543.93,-184.24 550.91,-183.61\"/>\n",
       "</g>\n",
       "<!-- 11 -->\n",
       "<g id=\"node12\" class=\"node\">\n",
       "<title>11</title>\n",
       "<polygon fill=\"#e88f4f\" stroke=\"black\" points=\"872.5,-172.75 669.75,-172.75 669.75,-95.75 872.5,-95.75 872.5,-172.75\"/>\n",
       "<text text-anchor=\"middle\" x=\"771.12\" y=\"-155.45\" font-family=\"Helvetica,sans-Serif\" font-size=\"14.00\">worst symmetry &lt;= 0.268</text>\n",
       "<text text-anchor=\"middle\" x=\"771.12\" y=\"-138.2\" font-family=\"Helvetica,sans-Serif\" font-size=\"14.00\">samples = 20</text>\n",
       "<text text-anchor=\"middle\" x=\"771.12\" y=\"-120.95\" font-family=\"Helvetica,sans-Serif\" font-size=\"14.00\">value = [18, 2]</text>\n",
       "<text text-anchor=\"middle\" x=\"771.12\" y=\"-103.7\" font-family=\"Helvetica,sans-Serif\" font-size=\"14.00\">class = Malignant</text>\n",
       "</g>\n",
       "<!-- 7&#45;&gt;11 -->\n",
       "<g id=\"edge11\" class=\"edge\">\n",
       "<title>7&#45;&gt;11</title>\n",
       "<path fill=\"none\" stroke=\"black\" d=\"M627.54,-208.36C646.72,-198.59 667.51,-188.01 687.14,-178.01\"/>\n",
       "<polygon fill=\"black\" stroke=\"black\" points=\"688.35,-180.81 695.68,-173.16 685.18,-174.58 688.35,-180.81\"/>\n",
       "</g>\n",
       "<!-- 9 -->\n",
       "<g id=\"node10\" class=\"node\">\n",
       "<title>9</title>\n",
       "<polygon fill=\"#4fa8e8\" stroke=\"black\" points=\"455.25,-59.75 335,-59.75 335,0 455.25,0 455.25,-59.75\"/>\n",
       "<text text-anchor=\"middle\" x=\"395.12\" y=\"-42.45\" font-family=\"Helvetica,sans-Serif\" font-size=\"14.00\">samples = 10</text>\n",
       "<text text-anchor=\"middle\" x=\"395.12\" y=\"-25.2\" font-family=\"Helvetica,sans-Serif\" font-size=\"14.00\">value = [1, 9]</text>\n",
       "<text text-anchor=\"middle\" x=\"395.12\" y=\"-7.95\" font-family=\"Helvetica,sans-Serif\" font-size=\"14.00\">class = Benign</text>\n",
       "</g>\n",
       "<!-- 8&#45;&gt;9 -->\n",
       "<g id=\"edge9\" class=\"edge\">\n",
       "<title>8&#45;&gt;9</title>\n",
       "<path fill=\"none\" stroke=\"black\" d=\"M488.44,-95.42C474.66,-85.89 459.92,-75.69 446.32,-66.28\"/>\n",
       "<polygon fill=\"black\" stroke=\"black\" points=\"448.78,-63.04 438.56,-60.23 444.8,-68.8 448.78,-63.04\"/>\n",
       "</g>\n",
       "<!-- 10 -->\n",
       "<g id=\"node11\" class=\"node\">\n",
       "<title>10</title>\n",
       "<polygon fill=\"#e58139\" stroke=\"black\" points=\"613,-59.75 473.25,-59.75 473.25,0 613,0 613,-59.75\"/>\n",
       "<text text-anchor=\"middle\" x=\"543.12\" y=\"-42.45\" font-family=\"Helvetica,sans-Serif\" font-size=\"14.00\">samples = 2</text>\n",
       "<text text-anchor=\"middle\" x=\"543.12\" y=\"-25.2\" font-family=\"Helvetica,sans-Serif\" font-size=\"14.00\">value = [2, 0]</text>\n",
       "<text text-anchor=\"middle\" x=\"543.12\" y=\"-7.95\" font-family=\"Helvetica,sans-Serif\" font-size=\"14.00\">class = Malignant</text>\n",
       "</g>\n",
       "<!-- 8&#45;&gt;10 -->\n",
       "<g id=\"edge10\" class=\"edge\">\n",
       "<title>8&#45;&gt;10</title>\n",
       "<path fill=\"none\" stroke=\"black\" d=\"M543.12,-95.42C543.12,-87.52 543.12,-79.17 543.12,-71.19\"/>\n",
       "<polygon fill=\"black\" stroke=\"black\" points=\"546.63,-71.23 543.12,-61.23 539.63,-71.23 546.63,-71.23\"/>\n",
       "</g>\n",
       "<!-- 12 -->\n",
       "<g id=\"node13\" class=\"node\">\n",
       "<title>12</title>\n",
       "<polygon fill=\"#9ccef2\" stroke=\"black\" points=\"751.25,-59.75 631,-59.75 631,0 751.25,0 751.25,-59.75\"/>\n",
       "<text text-anchor=\"middle\" x=\"691.12\" y=\"-42.45\" font-family=\"Helvetica,sans-Serif\" font-size=\"14.00\">samples = 3</text>\n",
       "<text text-anchor=\"middle\" x=\"691.12\" y=\"-25.2\" font-family=\"Helvetica,sans-Serif\" font-size=\"14.00\">value = [1, 2]</text>\n",
       "<text text-anchor=\"middle\" x=\"691.12\" y=\"-7.95\" font-family=\"Helvetica,sans-Serif\" font-size=\"14.00\">class = Benign</text>\n",
       "</g>\n",
       "<!-- 11&#45;&gt;12 -->\n",
       "<g id=\"edge12\" class=\"edge\">\n",
       "<title>11&#45;&gt;12</title>\n",
       "<path fill=\"none\" stroke=\"black\" d=\"M741.56,-95.42C734.75,-86.71 727.51,-77.44 720.7,-68.72\"/>\n",
       "<polygon fill=\"black\" stroke=\"black\" points=\"722.98,-66.96 714.06,-61.23 717.46,-71.27 722.98,-66.96\"/>\n",
       "</g>\n",
       "<!-- 13 -->\n",
       "<g id=\"node14\" class=\"node\">\n",
       "<title>13</title>\n",
       "<polygon fill=\"#e58139\" stroke=\"black\" points=\"909,-59.75 769.25,-59.75 769.25,0 909,0 909,-59.75\"/>\n",
       "<text text-anchor=\"middle\" x=\"839.12\" y=\"-42.45\" font-family=\"Helvetica,sans-Serif\" font-size=\"14.00\">samples = 17</text>\n",
       "<text text-anchor=\"middle\" x=\"839.12\" y=\"-25.2\" font-family=\"Helvetica,sans-Serif\" font-size=\"14.00\">value = [17, 0]</text>\n",
       "<text text-anchor=\"middle\" x=\"839.12\" y=\"-7.95\" font-family=\"Helvetica,sans-Serif\" font-size=\"14.00\">class = Malignant</text>\n",
       "</g>\n",
       "<!-- 11&#45;&gt;13 -->\n",
       "<g id=\"edge13\" class=\"edge\">\n",
       "<title>11&#45;&gt;13</title>\n",
       "<path fill=\"none\" stroke=\"black\" d=\"M796.25,-95.42C801.92,-86.89 807.94,-77.82 813.63,-69.27\"/>\n",
       "<polygon fill=\"black\" stroke=\"black\" points=\"817.01,-71.5 819.63,-61.23 811.18,-67.62 817.01,-71.5\"/>\n",
       "</g>\n",
       "<!-- 15 -->\n",
       "<g id=\"node16\" class=\"node\">\n",
       "<title>15</title>\n",
       "<polygon fill=\"#399de5\" stroke=\"black\" points=\"849.25,-277.12 729,-277.12 729,-217.38 849.25,-217.38 849.25,-277.12\"/>\n",
       "<text text-anchor=\"middle\" x=\"789.12\" y=\"-259.82\" font-family=\"Helvetica,sans-Serif\" font-size=\"14.00\">samples = 5</text>\n",
       "<text text-anchor=\"middle\" x=\"789.12\" y=\"-242.57\" font-family=\"Helvetica,sans-Serif\" font-size=\"14.00\">value = [0, 5]</text>\n",
       "<text text-anchor=\"middle\" x=\"789.12\" y=\"-225.32\" font-family=\"Helvetica,sans-Serif\" font-size=\"14.00\">class = Benign</text>\n",
       "</g>\n",
       "<!-- 14&#45;&gt;15 -->\n",
       "<g id=\"edge15\" class=\"edge\">\n",
       "<title>14&#45;&gt;15</title>\n",
       "<path fill=\"none\" stroke=\"black\" d=\"M789.12,-321.36C789.12,-310.73 789.12,-299.14 789.12,-288.39\"/>\n",
       "<polygon fill=\"black\" stroke=\"black\" points=\"792.63,-288.56 789.12,-278.56 785.63,-288.56 792.63,-288.56\"/>\n",
       "</g>\n",
       "<!-- 16 -->\n",
       "<g id=\"node17\" class=\"node\">\n",
       "<title>16</title>\n",
       "<polygon fill=\"#e6843d\" stroke=\"black\" points=\"1086.25,-285.75 888,-285.75 888,-208.75 1086.25,-208.75 1086.25,-285.75\"/>\n",
       "<text text-anchor=\"middle\" x=\"987.12\" y=\"-268.45\" font-family=\"Helvetica,sans-Serif\" font-size=\"14.00\">worst concavity &lt;= 0.191</text>\n",
       "<text text-anchor=\"middle\" x=\"987.12\" y=\"-251.2\" font-family=\"Helvetica,sans-Serif\" font-size=\"14.00\">samples = 137</text>\n",
       "<text text-anchor=\"middle\" x=\"987.12\" y=\"-233.95\" font-family=\"Helvetica,sans-Serif\" font-size=\"14.00\">value = [134, 3]</text>\n",
       "<text text-anchor=\"middle\" x=\"987.12\" y=\"-216.7\" font-family=\"Helvetica,sans-Serif\" font-size=\"14.00\">class = Malignant</text>\n",
       "</g>\n",
       "<!-- 14&#45;&gt;16 -->\n",
       "<g id=\"edge16\" class=\"edge\">\n",
       "<title>14&#45;&gt;16</title>\n",
       "<path fill=\"none\" stroke=\"black\" d=\"M856.71,-321.36C873.98,-311.68 892.67,-301.2 910.36,-291.29\"/>\n",
       "<polygon fill=\"black\" stroke=\"black\" points=\"911.5,-294.1 918.51,-286.16 908.07,-287.99 911.5,-294.1\"/>\n",
       "</g>\n",
       "<!-- 17 -->\n",
       "<g id=\"node18\" class=\"node\">\n",
       "<title>17</title>\n",
       "<polygon fill=\"#bddef6\" stroke=\"black\" points=\"1082.5,-172.75 891.75,-172.75 891.75,-95.75 1082.5,-95.75 1082.5,-172.75\"/>\n",
       "<text text-anchor=\"middle\" x=\"987.12\" y=\"-155.45\" font-family=\"Helvetica,sans-Serif\" font-size=\"14.00\">worst texture &lt;= 30.975</text>\n",
       "<text text-anchor=\"middle\" x=\"987.12\" y=\"-138.2\" font-family=\"Helvetica,sans-Serif\" font-size=\"14.00\">samples = 5</text>\n",
       "<text text-anchor=\"middle\" x=\"987.12\" y=\"-120.95\" font-family=\"Helvetica,sans-Serif\" font-size=\"14.00\">value = [2, 3]</text>\n",
       "<text text-anchor=\"middle\" x=\"987.12\" y=\"-103.7\" font-family=\"Helvetica,sans-Serif\" font-size=\"14.00\">class = Benign</text>\n",
       "</g>\n",
       "<!-- 16&#45;&gt;17 -->\n",
       "<g id=\"edge17\" class=\"edge\">\n",
       "<title>16&#45;&gt;17</title>\n",
       "<path fill=\"none\" stroke=\"black\" d=\"M987.12,-208.36C987.12,-200.5 987.12,-192.12 987.12,-183.94\"/>\n",
       "<polygon fill=\"black\" stroke=\"black\" points=\"990.63,-183.97 987.12,-173.97 983.63,-183.97 990.63,-183.97\"/>\n",
       "</g>\n",
       "<!-- 20 -->\n",
       "<g id=\"node21\" class=\"node\">\n",
       "<title>20</title>\n",
       "<polygon fill=\"#e58139\" stroke=\"black\" points=\"1240,-164.12 1100.25,-164.12 1100.25,-104.38 1240,-104.38 1240,-164.12\"/>\n",
       "<text text-anchor=\"middle\" x=\"1170.12\" y=\"-146.82\" font-family=\"Helvetica,sans-Serif\" font-size=\"14.00\">samples = 132</text>\n",
       "<text text-anchor=\"middle\" x=\"1170.12\" y=\"-129.57\" font-family=\"Helvetica,sans-Serif\" font-size=\"14.00\">value = [132, 0]</text>\n",
       "<text text-anchor=\"middle\" x=\"1170.12\" y=\"-112.33\" font-family=\"Helvetica,sans-Serif\" font-size=\"14.00\">class = Malignant</text>\n",
       "</g>\n",
       "<!-- 16&#45;&gt;20 -->\n",
       "<g id=\"edge20\" class=\"edge\">\n",
       "<title>16&#45;&gt;20</title>\n",
       "<path fill=\"none\" stroke=\"black\" d=\"M1049.59,-208.36C1069.97,-196 1092.5,-182.34 1112.5,-170.2\"/>\n",
       "<polygon fill=\"black\" stroke=\"black\" points=\"1114.07,-172.74 1120.8,-164.56 1110.44,-166.76 1114.07,-172.74\"/>\n",
       "</g>\n",
       "<!-- 18 -->\n",
       "<g id=\"node19\" class=\"node\">\n",
       "<title>18</title>\n",
       "<polygon fill=\"#399de5\" stroke=\"black\" points=\"1047.25,-59.75 927,-59.75 927,0 1047.25,0 1047.25,-59.75\"/>\n",
       "<text text-anchor=\"middle\" x=\"987.12\" y=\"-42.45\" font-family=\"Helvetica,sans-Serif\" font-size=\"14.00\">samples = 3</text>\n",
       "<text text-anchor=\"middle\" x=\"987.12\" y=\"-25.2\" font-family=\"Helvetica,sans-Serif\" font-size=\"14.00\">value = [0, 3]</text>\n",
       "<text text-anchor=\"middle\" x=\"987.12\" y=\"-7.95\" font-family=\"Helvetica,sans-Serif\" font-size=\"14.00\">class = Benign</text>\n",
       "</g>\n",
       "<!-- 17&#45;&gt;18 -->\n",
       "<g id=\"edge18\" class=\"edge\">\n",
       "<title>17&#45;&gt;18</title>\n",
       "<path fill=\"none\" stroke=\"black\" d=\"M987.12,-95.42C987.12,-87.52 987.12,-79.17 987.12,-71.19\"/>\n",
       "<polygon fill=\"black\" stroke=\"black\" points=\"990.63,-71.23 987.12,-61.23 983.63,-71.23 990.63,-71.23\"/>\n",
       "</g>\n",
       "<!-- 19 -->\n",
       "<g id=\"node20\" class=\"node\">\n",
       "<title>19</title>\n",
       "<polygon fill=\"#e58139\" stroke=\"black\" points=\"1205,-59.75 1065.25,-59.75 1065.25,0 1205,0 1205,-59.75\"/>\n",
       "<text text-anchor=\"middle\" x=\"1135.12\" y=\"-42.45\" font-family=\"Helvetica,sans-Serif\" font-size=\"14.00\">samples = 2</text>\n",
       "<text text-anchor=\"middle\" x=\"1135.12\" y=\"-25.2\" font-family=\"Helvetica,sans-Serif\" font-size=\"14.00\">value = [2, 0]</text>\n",
       "<text text-anchor=\"middle\" x=\"1135.12\" y=\"-7.95\" font-family=\"Helvetica,sans-Serif\" font-size=\"14.00\">class = Malignant</text>\n",
       "</g>\n",
       "<!-- 17&#45;&gt;19 -->\n",
       "<g id=\"edge19\" class=\"edge\">\n",
       "<title>17&#45;&gt;19</title>\n",
       "<path fill=\"none\" stroke=\"black\" d=\"M1041.81,-95.42C1055.59,-85.89 1070.33,-75.69 1083.93,-66.28\"/>\n",
       "<polygon fill=\"black\" stroke=\"black\" points=\"1085.45,-68.8 1091.69,-60.23 1081.47,-63.04 1085.45,-68.8\"/>\n",
       "</g>\n",
       "</g>\n",
       "</svg>\n"
      ],
      "text/plain": [
       "<graphviz.sources.Source at 0x7fdf54d990a0>"
      ]
     },
     "execution_count": 9,
     "metadata": {},
     "output_type": "execute_result"
    }
   ],
   "source": [
    "# Module to visualize .dot files\n",
    "import graphviz \n",
    "\n",
    "with open('assets/tree.dot', 'r') as file:\n",
    "    graph = file.read()\n",
    "graphviz.Source(graph)\n",
    "\n",
    "# They already implement a function:\n",
    "# from sklearn.trees import plot_tree\n",
    "# plot_tree(tree4d)"
   ]
  },
  {
   "cell_type": "markdown",
   "metadata": {},
   "source": [
    "**Feature importance**"
   ]
  },
  {
   "cell_type": "code",
   "execution_count": 10,
   "metadata": {},
   "outputs": [
    {
     "data": {
      "text/plain": [
       "array([0.        , 0.        , 0.        , 0.        , 0.        ,\n",
       "       0.        , 0.        , 0.        , 0.        , 0.        ,\n",
       "       0.01019737, 0.04839825, 0.        , 0.        , 0.0024156 ,\n",
       "       0.        , 0.        , 0.        , 0.        , 0.        ,\n",
       "       0.72682851, 0.0458159 , 0.        , 0.        , 0.0141577 ,\n",
       "       0.        , 0.018188  , 0.1221132 , 0.01188548, 0.        ])"
      ]
     },
     "execution_count": 10,
     "metadata": {},
     "output_type": "execute_result"
    }
   ],
   "source": [
    "tree4d.feature_importances_"
   ]
  },
  {
   "cell_type": "code",
   "execution_count": 11,
   "metadata": {},
   "outputs": [
    {
     "data": {
      "text/plain": [
       "Text(0, 0.5, 'Feature')"
      ]
     },
     "execution_count": 11,
     "metadata": {},
     "output_type": "execute_result"
    },
    {
     "data": {
      "image/png": "[encoded data removed]",
      "text/plain": [
       "<Figure size 640x480 with 1 Axes>"
      ]
     },
     "metadata": {},
     "output_type": "display_data"
    }
   ],
   "source": [
    "n_features = cancer.data.shape[1]\n",
    "plt.barh(range(n_features), tree4d.feature_importances_, align='center')\n",
    "# Ticks are the markers denoting data points on the axes\n",
    "plt.yticks(np.arange(n_features), cancer.feature_names) \n",
    "plt.xlabel(\"Feature importance\")\n",
    "plt.ylabel(\"Feature\")"
   ]
  }
 ],
 "metadata": {
  "kernelspec": {
   "display_name": "sklearn-env",
   "language": "python",
   "name": "python3"
  },
  "language_info": {
   "codemirror_mode": {
    "name": "ipython",
    "version": 3
   },
   "file_extension": ".py",
   "mimetype": "text/x-python",
   "name": "python",
   "nbconvert_exporter": "python",
   "pygments_lexer": "ipython3",
   "version": "3.12.0"
  }
 },
 "nbformat": 4,
 "nbformat_minor": 2
}
