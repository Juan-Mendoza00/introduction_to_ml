{
 "cells": [
  {
   "cell_type": "code",
   "execution_count": null,
   "metadata": {},
   "outputs": [],
   "source": [
    "import numpy as np\n",
    "import matplotlib.pyplot as plt"
   ]
  },
  {
   "cell_type": "markdown",
   "metadata": {},
   "source": [
    "# Data Representation and Feature Engineering\n",
    "\n",
    "- **Challenge**: Many machine learning algorithms require numerical input, and categorical variables are non-numeric.\n",
    "- **Solution**: Represent categorical variables numerically through encoding techniques.\n",
    "\n",
    "### Methods and Examples:\n",
    "\n",
    "**Ordinal Encoding:**\n",
    "\n",
    "- Method: Assign integer values to categories based on their order or ranking.\n",
    "- Example: Education levels (low, medium, high) mapped to (1, 2, 3).\n",
    "\n",
    "**One-Hot Encoding:**\n",
    "\n",
    "-  Method: Create binary columns for each category, indicating its presence or absence.\n",
    "-  Example: Gender categories (male, female) become two binary columns (0 or 1).\n",
    "\n",
    "**Label Encoding:**\n",
    "\n",
    "- Method: Assign a unique integer to each category.\n",
    "- Example: Days of the week (Monday, Tuesday, ...) mapped to (1, 2, ...).\n",
    "\n",
    "**Frequency Encoding:**\n",
    "\n",
    "- Method: Encode categories based on their frequency of occurrence.\n",
    "- Example: Encode city names based on how frequently they appear in a dataset."
   ]
  },
  {
   "cell_type": "code",
   "execution_count": 2,
   "metadata": {},
   "outputs": [
    {
     "name": "stdout",
     "output_type": "stream",
     "text": [
      "   Color_Blue  Color_Green  Color_Red\n",
      "0         0.0          0.0        1.0\n",
      "1         1.0          0.0        0.0\n",
      "2         0.0          1.0        0.0\n",
      "3         0.0          0.0        1.0\n",
      "4         0.0          1.0        0.0\n"
     ]
    }
   ],
   "source": [
    "import pandas as pd\n",
    "from sklearn.preprocessing import OneHotEncoder\n",
    "\n",
    "# Create a DataFrame with a categorical column\n",
    "data = {'Color': ['Red', 'Blue', 'Green', 'Red', 'Green']}\n",
    "df = pd.DataFrame(data)\n",
    "\n",
    "# Initialize the OneHotEncoder\n",
    "encoder = OneHotEncoder()\n",
    "\n",
    "# Fit and transform the categorical column\n",
    "encoded_data = encoder.fit_transform(df[['Color']]).toarray()\n",
    "\n",
    "# Create a new DataFrame with the encoded features\n",
    "encoded_df = pd.DataFrame(encoded_data, columns=encoder.get_feature_names_out(['Color']))\n",
    "\n",
    "# Display the result\n",
    "print(encoded_df)\n"
   ]
  }
 ],
 "metadata": {
  "kernelspec": {
   "display_name": "sklearn-env",
   "language": "python",
   "name": "python3"
  },
  "language_info": {
   "codemirror_mode": {
    "name": "ipython",
    "version": 3
   },
   "file_extension": ".py",
   "mimetype": "text/x-python",
   "name": "python",
   "nbconvert_exporter": "python",
   "pygments_lexer": "ipython3",
   "version": "3.12.0"
  }
 },
 "nbformat": 4,
 "nbformat_minor": 2
}
